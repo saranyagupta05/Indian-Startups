{
 "cells": [
  {
   "cell_type": "markdown",
   "metadata": {},
   "source": [
    "#### 1) Your Friend has developed the Product and he wants to establish the product startup and he is searching for a perfect location where getting the investment has a high chance. But due to its financial restriction, he can choose only between three locations -  Bangalore, Mumbai, and NCR. As a friend, you want to help your friend deciding the location. NCR include Gurgaon, Noida and New Delhi. Find the location where the most number of funding is done. That means, find the location where startups has received funding maximum number of times. Plot the bar graph between location and number of funding. Take city name \"Delhi\" as \"New Delhi\". Check the case-sensitiveness of cities also. That means, at some place instead of \"Bangalore\", \"bangalore\" is given. Take city name as \"Bangalore\". For few startups multiple locations are given, one Indian and one Foreign. Consider the startup if any one of the city lies in given locations."
   ]
  },
  {
   "cell_type": "code",
   "execution_count": 5,
   "metadata": {},
   "outputs": [
    {
     "name": "stdout",
     "output_type": "stream",
     "text": [
      "Bangalore 635\n"
     ]
    },
    {
     "data": {
      "image/png": "[encoded data removed]",
      "text/plain": [
       "<Figure size 432x288 with 1 Axes>"
      ]
     },
     "metadata": {
      "needs_background": "light"
     },
     "output_type": "display_data"
    }
   ],
   "source": [
    "import pandas as pd \n",
    "import numpy as np\n",
    "import matplotlib.pyplot as plt\n",
    "data=pd.read_csv('startup_funding.csv')\n",
    "df = data.copy()\n",
    "df['CityLocation'].dropna(inplace=True)\n",
    "def sepCity(city):\n",
    "    return str(city).split('/')[0].strip()\n",
    "\n",
    "df['CityLocation'] = df['CityLocation'].apply(sepCity)\n",
    "df['CityLocation'].replace(\"Delhi\", \"New Delhi\", inplace = True)\n",
    "df['CityLocation'].replace(\"bangalore\",\"Bangalore\",inplace = True)\n",
    "ans = df['CityLocation'].value_counts()[0:4] \n",
    "# Location with most number of funding is Bangalore \n",
    "#print(ans)\n",
    "a = ans.index.tolist()\n",
    "b = ans.values.tolist()\n",
    "print(a[0], b[0])\n",
    "a.append(\"Noida\")\n",
    "b.append(79)\n",
    "plt.bar(a,b)\n",
    "plt.xticks(rotation=90)\n",
    "plt.show()\n"
   ]
  },
  {
   "cell_type": "markdown",
   "metadata": {},
   "source": [
    "#### 2. Even after trying for so many times, your friend’s startup could not find the investment. So you decided to take this matter in your hand and try to find the list of investors who probably can invest in your friend’s startup. Your list will increase the chance of your friend startup getting some initial investment by contacting these investors. Find the top 5 investors who have invested maximum number of times (consider repeat investments in one company also). In a startup, multiple investors might have invested. So consider each investor for that startup. Ignore undisclosed investors."
   ]
  },
  {
   "cell_type": "code",
   "execution_count": 1,
   "metadata": {},
   "outputs": [
    {
     "name": "stdout",
     "output_type": "stream",
     "text": [
      "Sequoia Capital\n",
      "Accel Partners\n",
      "Kalaari Capital\n",
      "SAIF Partners\n",
      "Indian Angel Network\n"
     ]
    }
   ],
   "source": [
    "import pandas as pd \n",
    "import numpy as np\n",
    "import matplotlib.pyplot as plt\n",
    "data=pd.read_csv('startup_funding.csv')\n",
    "df = data.copy()\n",
    "d= {}\n",
    "def sep(iname): \n",
    "    l = [i.strip() for i in str(iname).split(',')]\n",
    "    for j in l: \n",
    "        d[j] = d.get(j,0)+1 \n",
    "    return \n",
    "\n",
    "df['InvestorsName'].apply(sep)  \n",
    "\n",
    "m = max(list(d.values()))\n",
    "#print(d)\n",
    "a= sorted(d, key=d.get, reverse=True)[:5]\n",
    "for i in a: \n",
    "    print(i)"
   ]
  },
  {
   "cell_type": "markdown",
   "metadata": {},
   "source": [
    "#### 3. After re-analysing the dataset you found out that some investors have invested in the same startup at different number of funding rounds. So before finalising the previous list, you want to improvise it by finding the top 5 investors who have invested in different number of startups. This list will be more helpful than your previous list in finding the investment for your friend startup. Find the top 5 investors who have invested maximum number of times in different companies. That means, if one investor has invested multiple times in one startup, count one for that company. There are many errors in startup names. Ignore correcting all, just handle the important ones - Ola, Flipkart, Oyo and Paytm."
   ]
  },
  {
   "cell_type": "code",
   "execution_count": 7,
   "metadata": {},
   "outputs": [
    {
     "name": "stdout",
     "output_type": "stream",
     "text": [
      "Sequoia Capital\n",
      "Accel Partners\n",
      "Kalaari Capital\n",
      "Indian Angel Network\n",
      "Blume Ventures\n"
     ]
    }
   ],
   "source": [
    "import pandas as pd \n",
    "import numpy as np\n",
    "import matplotlib.pyplot as plt\n",
    "data=pd.read_csv('startup_funding.csv')\n",
    "df = data.copy()\n",
    "\n",
    "df['StartupName'].replace(\"Flipkart.com\", \"Flipkart\", inplace= True)\n",
    "df['StartupName'].replace(\"Ola Cabs\", \"Ola\", inplace= True)\n",
    "df['StartupName'].replace(\"Olacabs\", \"Ola\", inplace= True)\n",
    "df['StartupName'].replace(\"Oyo Rooms\", \"Oyo\", inplace= True)\n",
    "df['StartupName'].replace(\"Oyorooms\", \"Oyo\", inplace= True)\n",
    "df['StartupName'].replace(\"Oyo Rooms\", \"Oyo\", inplace= True)\n",
    "df['StartupName'].replace(\"OyoRooms\", \"Oyo\", inplace= True)\n",
    "df['StartupName'].replace(\"OYO Rooms\", \"Oyo\", inplace= True)\n",
    "df['StartupName'].replace(\"Paytm Marketplace\", \"Paytm\", inplace= True)\n",
    "df.dropna(subset = [\"StartupName\",\"InvestorsName\"],inplace = True)\n",
    "\n",
    "d = {}\n",
    "for i in df.index:\n",
    "    e = df[\"InvestorsName\"][i]\n",
    "    if \",\" in e:\n",
    "        for j in e.strip().split(','):\n",
    "            if j.strip() in d:\n",
    "                d[j.strip()].add(df[\"StartupName\"][i].strip())\n",
    "            else:\n",
    "                s = set()\n",
    "                d[j.strip()] = s\n",
    "                d[j.strip()].add(df[\"StartupName\"][i].strip())\n",
    "    else:\n",
    "        a = e.strip()\n",
    "        if a in d: \n",
    "            d[a].add(df[\"StartupName\"][i].strip())\n",
    "        else:\n",
    "            s = set()\n",
    "            d[a] = s\n",
    "            d[a].add(df[\"StartupName\"][i].strip())\n",
    "            \n",
    "d1 = {}  #created a dictionary where key is investor's name and value is count of startup's in which they had invested..\n",
    "for i in d:\n",
    "    if i == \"\":\n",
    "        continue\n",
    "    d1[i] = len(d[i])\n",
    "    \n",
    "d2 = sorted(d1, key=d1.get , reverse=True)[0:5]  #sorting the keys according to there values in descending order..and taking the top 5 investor's among all..\n",
    "for i in d2:\n",
    "    print(i)\n"
   ]
  },
  {
   "cell_type": "markdown",
   "metadata": {},
   "source": [
    "#### 4. Even after putting so much effort in finding the probable investors, it didn't turn out to be helpful for your friend. So you went to your investor friend to understand the situation better and your investor friend explained to you about the different Investment Types and their features. This new information will be helpful in finding the right investor. Since your friend startup is at an early stage startup, the best-suited investment type would be - Seed Funding and Crowdfunding. Find the top 5 investors who have invested in a different number of startups and their investment type is Crowdfunding or Seed Funding. Correct spelling of investment types are - \"Private Equity\", \"Seed Funding\", \"Debt Funding\", and \"Crowd Funding\". Keep an eye for any spelling mistake. You can find this by printing unique values from this column. There are many errors in startup names. Ignore correcting all, just handle the important ones - Ola, Flipkart, Oyo and Paytm."
   ]
  },
  {
   "cell_type": "code",
   "execution_count": 8,
   "metadata": {},
   "outputs": [
    {
     "name": "stdout",
     "output_type": "stream",
     "text": [
      "Indian Angel Network\n",
      "Rajan Anandan\n",
      "LetsVenture\n",
      "Anupam Mittal\n",
      "Kunal Shah\n"
     ]
    }
   ],
   "source": [
    "import pandas as pd \n",
    "import numpy as np\n",
    "import matplotlib.pyplot as plt\n",
    "data=pd.read_csv('startup_funding.csv')\n",
    "df = data.copy()\n",
    "\n",
    "df['StartupName'].replace(\"Flipkart.com\", \"Flipkart\", inplace= True)\n",
    "df['StartupName'].replace(\"Ola Cabs\", \"Ola\", inplace= True)\n",
    "df['StartupName'].replace(\"Olacabs\", \"Ola\", inplace= True)\n",
    "df['StartupName'].replace(\"Oyo Rooms\", \"Oyo\", inplace= True)\n",
    "df['StartupName'].replace(\"Oyorooms\", \"Oyo\", inplace= True)\n",
    "df['StartupName'].replace(\"Oyo Rooms\", \"Oyo\", inplace= True)\n",
    "df['StartupName'].replace(\"OyoRooms\", \"Oyo\", inplace= True)\n",
    "df['StartupName'].replace(\"OYO Rooms\", \"Oyo\", inplace= True)\n",
    "df['StartupName'].replace(\"Paytm Marketplace\", \"Paytm\", inplace= True)\n",
    "df['InvestmentType'].replace(\"SeedFunding\", \"Seed Funding\", inplace= True)\n",
    "df['InvestmentType'].replace(\"PrivateEquity\", \"Private Equity\", inplace= True)\n",
    "df['InvestmentType'].replace(\"Crowd funding\", \"Crowd Funding\", inplace= True)\n",
    "df['InvestorsName'].replace(\"Undisclosed investors\",\"Undisclosed Investors\", inplace=True)\n",
    "df.dropna(subset = [\"StartupName\",\"InvestorsName\", \"InvestmentType\"],inplace = True)\n",
    "\n",
    "d = {}\n",
    "d_new = df[df['InvestmentType'] == \"Seed Funding\"]\n",
    "d_new2 = df[df['InvestmentType'] == \"Crowd Funding\"]\n",
    "d_ = pd.concat([d_new,d_new2])\n",
    "for i in d_.index:\n",
    "    e = d_[\"InvestorsName\"][i]\n",
    "    if \",\" in e:\n",
    "        for j in e.strip().split(','):\n",
    "            if j.strip() in d:\n",
    "                d[j.strip()].add(d_[\"StartupName\"][i].strip())\n",
    "            else:\n",
    "                s = set()\n",
    "                d[j.strip()] = s\n",
    "                d[j.strip()].add(d_[\"StartupName\"][i].strip())\n",
    "    else:\n",
    "        a = e.strip()\n",
    "        if a in d: \n",
    "            d[a].add(d_[\"StartupName\"][i].strip())\n",
    "        else:\n",
    "            s = set()\n",
    "            d[a] = s\n",
    "            d[a].add(d_[\"StartupName\"][i].strip())\n",
    "            \n",
    "d1 = {}  #created a dictionary where key is investor's name and value is count of startup's in which they had invested..\n",
    "for i in d:\n",
    "    if i == \"\":\n",
    "        continue\n",
    "    d1[i] = len(d[i])   \n",
    "d2 = sorted(d1, key=d1.get , reverse=True)[1:6]  #sorting the keys according to there values in descending order..and taking the top 5 investor's among all..\n",
    "for i in d2:\n",
    "    print(i)"
   ]
  },
  {
   "cell_type": "markdown",
   "metadata": {},
   "source": [
    "#### 5. Due to your immense help, your friend startup successfully got seed funding and it is on the operational mode. Now your friend wants to expand his startup and he is looking for new investors for his startup. Now you again come as a saviour to help your friend and want to create a list of probable new new investors. Before moving forward you remember your investor friend advice that finding the investors by analysing the investment type. Since your friend startup is not in early phase it is in growth stage so the best-suited investment type is Private Equity. Find the top 5 investors who have invested in a different number of startups and their investment type is Private Equity. Correct spelling of investment types are - \"Private Equity\", \"Seed Funding\", \"Debt Funding\", and \"Crowd Funding\". Keep an eye for any spelling mistake. You can find this by printing unique values from this column.There are many errors in startup names. Ignore correcting all, just handle the important ones - Ola, Flipkart, Oyo and Paytm."
   ]
  },
  {
   "cell_type": "code",
   "execution_count": 9,
   "metadata": {},
   "outputs": [
    {
     "name": "stdout",
     "output_type": "stream",
     "text": [
      "Accel Partners\n",
      "Kalaari Capital\n",
      "Blume Ventures\n",
      "SAIF Partners\n",
      "Tiger Global\n"
     ]
    }
   ],
   "source": [
    "# private equity \n",
    "\n",
    "import pandas as pd \n",
    "import numpy as np\n",
    "import matplotlib.pyplot as plt\n",
    "data=pd.read_csv('startup_funding.csv')\n",
    "df = data.copy()\n",
    "\n",
    "df['StartupName'].replace(\"Flipkart.com\", \"Flipkart\", inplace= True)\n",
    "df['StartupName'].replace(\"Ola Cabs\", \"Ola\", inplace= True)\n",
    "df['StartupName'].replace(\"Olacabs\", \"Ola\", inplace= True)\n",
    "df['StartupName'].replace(\"Oyo Rooms\", \"Oyo\", inplace= True)\n",
    "df['StartupName'].replace(\"Oyorooms\", \"Oyo\", inplace= True)\n",
    "df['StartupName'].replace(\"Oyo Rooms\", \"Oyo\", inplace= True)\n",
    "df['StartupName'].replace(\"OyoRooms\", \"Oyo\", inplace= True)\n",
    "df['StartupName'].replace(\"OYO Rooms\", \"Oyo\", inplace= True)\n",
    "df['StartupName'].replace(\"Paytm Marketplace\", \"Paytm\", inplace= True)\n",
    "df['InvestmentType'].replace(\"SeedFunding\", \"Seed Funding\", inplace= True)\n",
    "df['InvestmentType'].replace(\"PrivateEquity\", \"Private Equity\", inplace= True)\n",
    "df['InvestmentType'].replace(\"Crowd funding\", \"Crowd Funding\", inplace= True)\n",
    "df['InvestorsName'].replace(\"Undisclosed investors\",\"Undisclosed Investors\", inplace=True)\n",
    "df.dropna(subset = [\"StartupName\",\"InvestorsName\", \"InvestmentType\"],inplace = True)\n",
    "\n",
    "d = {}\n",
    "d_ = df[df['InvestmentType'] == \"Private Equity\"]\n",
    "for i in d_.index:\n",
    "    e = d_[\"InvestorsName\"][i]\n",
    "    if \",\" in e:\n",
    "        for j in e.strip().split(','):\n",
    "            if j.strip() in d:\n",
    "                d[j.strip()].add(d_[\"StartupName\"][i].strip())\n",
    "            else:\n",
    "                s = set()\n",
    "                d[j.strip()] = s\n",
    "                d[j.strip()].add(d_[\"StartupName\"][i].strip())\n",
    "    else:\n",
    "        a = e.strip()\n",
    "        if a in d: \n",
    "            d[a].add(d_[\"StartupName\"][i].strip())\n",
    "        else:\n",
    "            s = set()\n",
    "            d[a] = s\n",
    "            d[a].add(d_[\"StartupName\"][i].strip())\n",
    "            \n",
    "d1 = {}  #created a dictionary where key is investor's name and value is count of startup's in which they had invested..\n",
    "for i in d:\n",
    "    if i == \"\":\n",
    "        continue\n",
    "    d1[i] = len(d[i])   \n",
    "d2 = sorted(d1, key=d1.get , reverse=True)[1:6]  #sorting the keys according to there values in descending order..and taking the top 5 investor's among all..\n",
    "for i in d2:\n",
    "    print(i)"
   ]
  }
 ],
 "metadata": {
  "kernelspec": {
   "display_name": "Python 3",
   "language": "python",
   "name": "python3"
  },
  "language_info": {
   "codemirror_mode": {
    "name": "ipython",
    "version": 3
   },
   "file_extension": ".py",
   "mimetype": "text/x-python",
   "name": "python",
   "nbconvert_exporter": "python",
   "pygments_lexer": "ipython3",
   "version": "3.7.6"
  }
 },
 "nbformat": 4,
 "nbformat_minor": 4
}
